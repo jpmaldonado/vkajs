{
 "cells": [
  {
   "cell_type": "code",
   "execution_count": 1,
   "id": "3504c8fd",
   "metadata": {},
   "outputs": [],
   "source": [
    "import pandas as pd\n",
    "import ipywidgets as widgets"
   ]
  },
  {
   "cell_type": "code",
   "execution_count": 6,
   "id": "e3ac7788",
   "metadata": {},
   "outputs": [
    {
     "data": {
      "application/vnd.jupyter.widget-view+json": {
       "model_id": "2012e5c4983f4f16882354927f540c3e",
       "version_major": 2,
       "version_minor": 0
      },
      "text/plain": [
       "FileUpload(value={}, description='Upload', multiple=True)"
      ]
     },
     "metadata": {},
     "output_type": "display_data"
    }
   ],
   "source": [
    "uploader = widgets.FileUpload(multiple=True)\n",
    "uploader"
   ]
  },
  {
   "cell_type": "code",
   "execution_count": 7,
   "id": "757c33b9",
   "metadata": {},
   "outputs": [],
   "source": [
    "dd = widgets.Dropdown(options=list(uploader.value.keys()))\n",
    "def read_info(fname):\n",
    "    return uploader.value[fname]['metadata']"
   ]
  },
  {
   "cell_type": "code",
   "execution_count": 8,
   "id": "190d73d8",
   "metadata": {},
   "outputs": [
    {
     "data": {
      "application/vnd.jupyter.widget-view+json": {
       "model_id": "a6d3784491854a88abb389b9ccdabd1a",
       "version_major": 2,
       "version_minor": 0
      },
      "text/plain": [
       "interactive(children=(Dropdown(description='fname', options=('phone_dataset .csv',), value='phone_dataset .csv…"
      ]
     },
     "metadata": {},
     "output_type": "display_data"
    }
   ],
   "source": [
    "widgets.interact(read_info, fname=dd);"
   ]
  },
  {
   "cell_type": "code",
   "execution_count": 9,
   "id": "c99f5d96",
   "metadata": {},
   "outputs": [],
   "source": [
    "# Read the selected file as a string\n",
    "import codecs\n",
    "txt = codecs.decode(uploader.value[dd.value]['content'])"
   ]
  },
  {
   "cell_type": "code",
   "execution_count": 10,
   "id": "66313fd4",
   "metadata": {},
   "outputs": [],
   "source": [
    "# Put the search into a text widget\n",
    "def find_text(pattern):\n",
    "    txt = codecs.decode(uploader.value[dd.value]['content'])\n",
    "    window = 50\n",
    "    idx = txt.find(pattern)\n",
    "    print(txt[idx-window:idx+window])"
   ]
  },
  {
   "cell_type": "code",
   "execution_count": 11,
   "id": "671856fb",
   "metadata": {},
   "outputs": [
    {
     "data": {
      "application/vnd.jupyter.widget-view+json": {
       "model_id": "0dd411f6a20a484da537e6a49dd1c445",
       "version_major": 2,
       "version_minor": 0
      },
      "text/plain": [
       "interactive(children=(Text(value='Type your pattern', description='pattern'), Output()), _dom_classes=('widget…"
      ]
     },
     "metadata": {},
     "output_type": "display_data"
    }
   ],
   "source": [
    "widgets.interact(find_text, pattern='Type your pattern');"
   ]
  },
  {
   "cell_type": "code",
   "execution_count": null,
   "id": "c42dd551",
   "metadata": {},
   "outputs": [],
   "source": []
  }
 ],
 "metadata": {
  "kernelspec": {
   "display_name": "Python 3 (ipykernel)",
   "language": "python",
   "name": "python3"
  },
  "language_info": {
   "codemirror_mode": {
    "name": "ipython",
    "version": 3
   },
   "file_extension": ".py",
   "mimetype": "text/x-python",
   "name": "python",
   "nbconvert_exporter": "python",
   "pygments_lexer": "ipython3",
   "version": "3.9.4"
  }
 },
 "nbformat": 4,
 "nbformat_minor": 5
}
