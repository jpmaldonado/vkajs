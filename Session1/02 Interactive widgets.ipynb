{
 "cells": [
  {
   "cell_type": "code",
   "execution_count": 1,
   "id": "3504c8fd",
   "metadata": {},
   "outputs": [],
   "source": [
    "import pandas as pd\n",
    "import ipywidgets as widgets"
   ]
  },
  {
   "cell_type": "code",
   "execution_count": 10,
   "id": "e3ac7788",
   "metadata": {},
   "outputs": [],
   "source": [
    "uploader = widgets.FileUpload(multiple=True)"
   ]
  },
  {
   "cell_type": "code",
   "execution_count": 11,
   "id": "4dcca88e",
   "metadata": {},
   "outputs": [
    {
     "data": {
      "application/vnd.jupyter.widget-view+json": {
       "model_id": "6e12e7c62492474b8baec43d142e006a",
       "version_major": 2,
       "version_minor": 0
      },
      "text/plain": [
       "FileUpload(value={}, description='Upload', multiple=True)"
      ]
     },
     "metadata": {},
     "output_type": "display_data"
    }
   ],
   "source": [
    "uploader"
   ]
  },
  {
   "cell_type": "code",
   "execution_count": 13,
   "id": "91792354",
   "metadata": {},
   "outputs": [
    {
     "data": {
      "text/plain": [
       "dict_keys(['employees.csv', 'phone_dataset .csv'])"
      ]
     },
     "execution_count": 13,
     "metadata": {},
     "output_type": "execute_result"
    }
   ],
   "source": [
    "uploader.value.keys()"
   ]
  },
  {
   "cell_type": "code",
   "execution_count": 14,
   "id": "81f783f4",
   "metadata": {},
   "outputs": [
    {
     "data": {
      "text/plain": [
       "{'name': 'employees.csv',\n",
       " 'type': '',\n",
       " 'size': 174,\n",
       " 'lastModified': 1629090202778}"
      ]
     },
     "execution_count": 14,
     "metadata": {},
     "output_type": "execute_result"
    }
   ],
   "source": [
    "uploader.value['employees.csv']['metadata']"
   ]
  },
  {
   "cell_type": "code",
   "execution_count": 22,
   "id": "757c33b9",
   "metadata": {},
   "outputs": [],
   "source": [
    "dd = widgets.Dropdown(options=list(uploader.value.keys()))\n",
    "def read_info(fname):\n",
    "    return uploader.value[fname]['metadata']"
   ]
  },
  {
   "cell_type": "code",
   "execution_count": 23,
   "id": "190d73d8",
   "metadata": {},
   "outputs": [
    {
     "data": {
      "application/vnd.jupyter.widget-view+json": {
       "model_id": "501d203efd0e44cf9e52bd35f7d25c2f",
       "version_major": 2,
       "version_minor": 0
      },
      "text/plain": [
       "interactive(children=(Dropdown(description='fname', options=('employees.csv', 'phone_dataset .csv'), value='em…"
      ]
     },
     "metadata": {},
     "output_type": "display_data"
    }
   ],
   "source": [
    "widgets.interact(read_info, fname=dd);"
   ]
  },
  {
   "cell_type": "code",
   "execution_count": 26,
   "id": "c99f5d96",
   "metadata": {},
   "outputs": [],
   "source": [
    "# Read the selected file as a string\n",
    "import codecs\n",
    "txt = codecs.decode(uploader.value[dd.value]['content'])"
   ]
  },
  {
   "cell_type": "code",
   "execution_count": 34,
   "id": "0c6720c9",
   "metadata": {},
   "outputs": [
    {
     "data": {
      "text/plain": [
       "'mg_url,\\r\\nA001,Acer,Iconia Talk S,GSM / HSPA / LTE,GSM 850 / 900 / 1800 / 1900 - SIM 1 & SIM 2,HSDPA '"
      ]
     },
     "execution_count": 34,
     "metadata": {},
     "output_type": "execute_result"
    }
   ],
   "source": [
    "window = 50\n",
    "idx = txt.find('GSM 850 / 900')\n",
    "txt[idx-window:idx+window]"
   ]
  },
  {
   "cell_type": "code",
   "execution_count": 38,
   "id": "66313fd4",
   "metadata": {},
   "outputs": [],
   "source": [
    "# Put the search into a text widget\n",
    "def find_text(pattern):\n",
    "    txt = codecs.decode(uploader.value[dd.value]['content'])\n",
    "    window = 50\n",
    "    idx = txt.find(pattern)\n",
    "    print(txt[idx-window:idx+window])"
   ]
  },
  {
   "cell_type": "code",
   "execution_count": 40,
   "id": "671856fb",
   "metadata": {},
   "outputs": [
    {
     "data": {
      "application/vnd.jupyter.widget-view+json": {
       "model_id": "392fb50cd3ed4d3f8857e46755961275",
       "version_major": 2,
       "version_minor": 0
      },
      "text/plain": [
       "interactive(children=(Text(value='Type your pattern', description='pattern'), Output()), _dom_classes=('widget…"
      ]
     },
     "metadata": {},
     "output_type": "display_data"
    }
   ],
   "source": [
    "widgets.interact(find_text, pattern='Type your pattern');"
   ]
  },
  {
   "cell_type": "code",
   "execution_count": 9,
   "id": "b298379e",
   "metadata": {},
   "outputs": [
    {
     "data": {
      "application/vnd.jupyter.widget-view+json": {
       "model_id": "ff66b75ce65845f8a36c18ce28d09c3c",
       "version_major": 2,
       "version_minor": 0
      },
      "text/plain": [
       "Button(description='Click me', style=ButtonStyle())"
      ]
     },
     "metadata": {},
     "output_type": "display_data"
    },
    {
     "name": "stdout",
     "output_type": "stream",
     "text": [
      "I was clicked\n"
     ]
    }
   ],
   "source": [
    "# Shift + TAB: See function signature / docs.\n",
    "\n",
    "def do_something(my_button):\n",
    "    print(\"I was clicked\")\n",
    "\n",
    "button = widgets.Button(description = 'Click me')\n",
    "button.on_click(do_something)\n",
    "display(button)"
   ]
  }
 ],
 "metadata": {
  "kernelspec": {
   "display_name": "Python 3 (ipykernel)",
   "language": "python",
   "name": "python3"
  },
  "language_info": {
   "codemirror_mode": {
    "name": "ipython",
    "version": 3
   },
   "file_extension": ".py",
   "mimetype": "text/x-python",
   "name": "python",
   "nbconvert_exporter": "python",
   "pygments_lexer": "ipython3",
   "version": "3.9.4"
  }
 },
 "nbformat": 4,
 "nbformat_minor": 5
}
